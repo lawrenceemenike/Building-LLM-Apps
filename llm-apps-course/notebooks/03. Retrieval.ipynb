{
  "cells": [
    {
      "cell_type": "markdown",
      "metadata": {
        "id": "view-in-github",
        "colab_type": "text"
      },
      "source": [
        "<a href=\"https://colab.research.google.com/github/lawrenceemenike/Building-LLM-Apps/blob/main/llm-apps-course/notebooks/03.%20Retrieval.ipynb\" target=\"_parent\"><img src=\"https://colab.research.google.com/assets/colab-badge.svg\" alt=\"Open In Colab\"/></a>"
      ]
    },
    {
      "cell_type": "markdown",
      "metadata": {
        "id": "nm9h9Q7JFxSJ"
      },
      "source": [
        "<a href=\"https://colab.research.google.com/github/wandb/edu/blob/main/llm-apps-course/notebooks/03.%20Retrieval.ipynb\" target=\"_parent\"><img src=\"https://colab.research.google.com/assets/colab-badge.svg\" alt=\"Open In Colab\"/></a>\n",
        "<!--- @wandbcode{llmapps-retrieval} -->"
      ]
    },
    {
      "cell_type": "markdown",
      "metadata": {
        "id": "6364fOcrFxSO"
      },
      "source": [
        "# Understanding Retrieval Question Answering"
      ]
    },
    {
      "cell_type": "markdown",
      "metadata": {
        "id": "ZfpGyVB1FxSP"
      },
      "source": [
        "### Setup"
      ]
    },
    {
      "cell_type": "code",
      "execution_count": null,
      "metadata": {
        "id": "kUSVASGUFxSR"
      },
      "outputs": [],
      "source": [
        "!pip install -Uqqq rich openai==0.27.2 tiktoken wandb langchain unstructured tabulate pdf2image chromadb"
      ]
    },
    {
      "cell_type": "code",
      "execution_count": null,
      "metadata": {
        "id": "9hNw0YgvFxST"
      },
      "outputs": [],
      "source": [
        "import os, random\n",
        "from pathlib import Path\n",
        "import tiktoken\n",
        "from getpass import getpass\n",
        "from rich.markdown import Markdown"
      ]
    },
    {
      "cell_type": "markdown",
      "metadata": {
        "id": "sgy1cQQdFxSU"
      },
      "source": [
        "You will need an OpenAI API key to run this notebook. You can get one [here](https://platform.openai.com/account/api-keys)."
      ]
    },
    {
      "cell_type": "code",
      "execution_count": null,
      "metadata": {
        "id": "FyBUevjLFxSW"
      },
      "outputs": [],
      "source": [
        "if os.getenv(\"OPENAI_API_KEY\") is None:\n",
        "  if any(['VSCODE' in x for x in os.environ.keys()]):\n",
        "    print('Please enter password in the VS Code prompt at the top of your VS Code window!')\n",
        "  os.environ[\"OPENAI_API_KEY\"] = getpass(\"Paste your OpenAI key from: https://platform.openai.com/account/api-keys\\n\")\n",
        "\n",
        "assert os.getenv(\"OPENAI_API_KEY\", \"\").startswith(\"sk-\"), \"This doesn't look like a valid OpenAI API key\"\n",
        "print(\"OpenAI API key configured\")\n"
      ]
    },
    {
      "cell_type": "markdown",
      "metadata": {
        "id": "dbaSsvM5FxSY"
      },
      "source": [
        "## Langchain\n",
        "\n",
        "[LangChain](https://docs.langchain.com/docs/) is a framework for developing applications powered by language models. We will use some of its features in the code below. Let's start by configuring W&B tracing."
      ]
    },
    {
      "cell_type": "code",
      "execution_count": null,
      "metadata": {
        "id": "_-cR2RePFxSa"
      },
      "outputs": [],
      "source": [
        "# we need a single line of code to start tracing langchain with W&B\n",
        "os.environ[\"LANGCHAIN_WANDB_TRACING\"] = \"true\"\n",
        "\n",
        "# wandb documentation to configure wandb using env variables\n",
        "# https://docs.wandb.ai/guides/track/advanced/environment-variables\n",
        "# here we are configuring the wandb project name\n",
        "os.environ[\"WANDB_PROJECT\"] = \"llmapps\"\n"
      ]
    },
    {
      "cell_type": "markdown",
      "metadata": {
        "id": "XaJGIVhYFxSc"
      },
      "source": [
        "## Parsing documents\n",
        "\n",
        "We will use a small sample of markdown documents in this notebook. Let's find them and make sure we can stuff them into the prompt. That means they may need to be chunked and not exceed some number of tokens."
      ]
    },
    {
      "cell_type": "code",
      "execution_count": null,
      "metadata": {
        "id": "-TqUtNcmFxSd"
      },
      "outputs": [],
      "source": [
        "MODEL_NAME = \"text-davinci-003\"\n",
        "# MODEL_NAME = \"gpt-4\"\n"
      ]
    },
    {
      "cell_type": "markdown",
      "metadata": {
        "id": "hirjAHsSFxSd"
      },
      "source": [
        "Let's grab some sample data, here we will download a folder containing some markdown files from our docs."
      ]
    },
    {
      "cell_type": "code",
      "execution_count": null,
      "metadata": {
        "id": "4MtUKH9SFxSf"
      },
      "outputs": [],
      "source": [
        "!git clone https://github.com/wandb/edu.git\n"
      ]
    },
    {
      "cell_type": "code",
      "execution_count": null,
      "metadata": {
        "id": "JvmZHXY2FxSf"
      },
      "outputs": [],
      "source": [
        "from langchain.document_loaders import DirectoryLoader\n",
        "\n",
        "def find_md_files(directory):\n",
        "    \"Find all markdown files in a directory and return a LangChain Document\"\n",
        "    dl = DirectoryLoader(directory, \"**/*.md\")\n",
        "    return dl.load()\n",
        "\n",
        "documents = find_md_files('edu/llm-apps-course/docs_sample/')\n",
        "len(documents)\n"
      ]
    },
    {
      "cell_type": "code",
      "execution_count": null,
      "metadata": {
        "id": "XijMUBhFFxSf"
      },
      "outputs": [],
      "source": [
        "# We will need to count tokens in the documents, and for that we need the tokenizer\n",
        "tokenizer = tiktoken.encoding_for_model(MODEL_NAME)\n"
      ]
    },
    {
      "cell_type": "code",
      "execution_count": null,
      "metadata": {
        "id": "uCO1PA0qFxSg"
      },
      "outputs": [],
      "source": [
        "# function to count the number of tokens in each document\n",
        "def count_tokens(documents):\n",
        "    token_counts = [len(tokenizer.encode(document.page_content)) for document in documents]\n",
        "    return token_counts\n",
        "\n",
        "count_tokens(documents)\n",
        "\n"
      ]
    },
    {
      "cell_type": "markdown",
      "metadata": {
        "id": "MukO1GMNFxSh"
      },
      "source": [
        "We will use `LangChain` built in `MarkdownTextSplitter` to split the documents into sections. Actually splitting `Markdown` without breaking syntax is not that easy. This splitter strips out syntax.\n",
        "- We can pass the `chunk_size` param and avoid lenghty chunks.\n",
        "- The `chunk_overlap` param is useful so you don't cut sentences randomly. This is less necessary with `Markdown`\n",
        "\n",
        "The `MarkdownTextSplitter` also takes care of removing double line breaks and save us some tokens that way."
      ]
    },
    {
      "cell_type": "code",
      "execution_count": null,
      "metadata": {
        "id": "5v6HFhg4FxSh"
      },
      "outputs": [],
      "source": [
        "from langchain.text_splitter import MarkdownTextSplitter\n",
        "\n",
        "md_text_splitter = MarkdownTextSplitter(chunk_size=1000)\n",
        "document_sections = md_text_splitter.split_documents(documents)\n",
        "len(document_sections), max(count_tokens(document_sections))\n"
      ]
    },
    {
      "cell_type": "markdown",
      "metadata": {
        "id": "9xPhkggAFxSh"
      },
      "source": [
        "let's look at the first section"
      ]
    },
    {
      "cell_type": "code",
      "execution_count": null,
      "metadata": {
        "id": "-BXTOlJJFxSh"
      },
      "outputs": [],
      "source": [
        "Markdown(document_sections[0].page_content)"
      ]
    },
    {
      "cell_type": "markdown",
      "metadata": {
        "id": "65bbWD4yFxSi"
      },
      "source": [
        "## Embeddings\n",
        "\n",
        "Let's now use embeddings with a vector database retriever to find relevant documents for a query."
      ]
    },
    {
      "cell_type": "code",
      "execution_count": null,
      "metadata": {
        "id": "RtFI-oe7FxSi"
      },
      "outputs": [],
      "source": [
        "from langchain.embeddings import OpenAIEmbeddings\n",
        "from langchain.vectorstores import Chroma\n",
        "\n",
        "# We will use the OpenAIEmbeddings to embed the text, and Chroma to store the vectors\n",
        "embeddings = OpenAIEmbeddings()\n",
        "db = Chroma.from_documents(document_sections, embeddings)\n",
        "\n"
      ]
    },
    {
      "cell_type": "markdown",
      "metadata": {
        "id": "Rv-G1V9bFxSi"
      },
      "source": [
        "We can create a retriever from the db now, we can pass the `k` param to get the most relevant sections from the similarity search"
      ]
    },
    {
      "cell_type": "code",
      "execution_count": null,
      "metadata": {
        "id": "Q8D3sJhMFxSi"
      },
      "outputs": [],
      "source": [
        "retriever = db.as_retriever(search_kwargs=dict(k=3))\n"
      ]
    },
    {
      "cell_type": "code",
      "execution_count": null,
      "metadata": {
        "id": "iniMFBZ5FxSj"
      },
      "outputs": [],
      "source": [
        "query = \"How can I share my W&B report with my team members in a public W&B project?\"\n",
        "docs = retriever.get_relevant_documents(query)"
      ]
    },
    {
      "cell_type": "code",
      "execution_count": null,
      "metadata": {
        "id": "d7SmcvqvFxSj"
      },
      "outputs": [],
      "source": [
        "# Let's see the results\n",
        "for doc in docs:\n",
        "    print(doc.metadata[\"source\"])"
      ]
    },
    {
      "cell_type": "markdown",
      "metadata": {
        "id": "aCfQLi7aFxSk"
      },
      "source": [
        "## Stuff Prompt\n",
        "\n",
        "We'll now take the content of the retrieved documents, stuff them into prompt template along with the query, and pass into an LLM to obtain the answer."
      ]
    },
    {
      "cell_type": "code",
      "execution_count": null,
      "metadata": {
        "id": "e2_QODJhFxSk"
      },
      "outputs": [],
      "source": [
        "from langchain.prompts import PromptTemplate\n",
        "\n",
        "prompt_template = \"\"\"Use the following pieces of context to answer the question at the end.\n",
        "If you don't know the answer, just say that you don't know, don't try to make up an answer.\n",
        "\n",
        "{context}\n",
        "\n",
        "Question: {question}\n",
        "Helpful Answer:\"\"\"\n",
        "PROMPT = PromptTemplate(\n",
        "    template=prompt_template, input_variables=[\"context\", \"question\"]\n",
        ")\n",
        "\n",
        "context = \"\\n\\n\".join([doc.page_content for doc in docs])\n",
        "prompt = PROMPT.format(context=context, question=query)\n"
      ]
    },
    {
      "cell_type": "markdown",
      "source": [],
      "metadata": {
        "id": "xEYvSySRMVP5"
      }
    },
    {
      "cell_type": "markdown",
      "metadata": {
        "id": "d4Lxb6LaFxSk"
      },
      "source": [
        "Use langchain to call openai chat API with the question"
      ]
    },
    {
      "cell_type": "code",
      "execution_count": null,
      "metadata": {
        "id": "c2olfaxaFxSl"
      },
      "outputs": [],
      "source": [
        "from langchain.llms import OpenAI\n",
        "\n",
        "llm = OpenAI()\n",
        "response = llm.predict(prompt)\n",
        "Markdown(response)\n"
      ]
    },
    {
      "cell_type": "markdown",
      "metadata": {
        "id": "PpvijLvTFxSl"
      },
      "source": [
        "## Using Langchain\n",
        "\n",
        "Langchain gives us tools to do this efficiently in few lines of code. Let's do the same using `RetrievalQA` chain."
      ]
    },
    {
      "cell_type": "code",
      "execution_count": null,
      "metadata": {
        "id": "Z0Jf-ToEFxSl"
      },
      "outputs": [],
      "source": [
        "from langchain.chains import RetrievalQA\n",
        "\n",
        "qa = RetrievalQA.from_chain_type(llm=OpenAI(), chain_type=\"stuff\", retriever=retriever)\n",
        "result = qa.run(query)\n",
        "\n",
        "Markdown(result)\n",
        "\n"
      ]
    },
    {
      "cell_type": "code",
      "execution_count": null,
      "metadata": {
        "id": "xh-gxP8HFxSm"
      },
      "outputs": [],
      "source": [
        "import wandb\n",
        "wandb.finish()"
      ]
    },
    {
      "cell_type": "code",
      "execution_count": null,
      "metadata": {
        "id": "B0557ZJgFxSm"
      },
      "outputs": [],
      "source": []
    }
  ],
  "metadata": {
    "accelerator": "GPU",
    "colab": {
      "provenance": [],
      "toc_visible": true,
      "include_colab_link": true
    },
    "kernelspec": {
      "display_name": "Python 3",
      "language": "python",
      "name": "python3"
    },
    "language_info": {
      "codemirror_mode": {
        "name": "ipython",
        "version": 3
      },
      "file_extension": ".py",
      "mimetype": "text/x-python",
      "name": "python",
      "nbconvert_exporter": "python",
      "pygments_lexer": "ipython3",
      "version": "3.8.13"
    }
  },
  "nbformat": 4,
  "nbformat_minor": 0
}