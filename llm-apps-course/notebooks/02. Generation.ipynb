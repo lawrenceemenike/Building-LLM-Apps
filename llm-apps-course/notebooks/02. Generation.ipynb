{
  "cells": [
    {
      "cell_type": "markdown",
      "metadata": {
        "id": "view-in-github",
        "colab_type": "text"
      },
      "source": [
        "<a href=\"https://colab.research.google.com/github/lawrenceemenike/Building-LLM-Apps/blob/main/llm-apps-course/notebooks/02.%20Generation.ipynb\" target=\"_parent\"><img src=\"https://colab.research.google.com/assets/colab-badge.svg\" alt=\"Open In Colab\"/></a>"
      ]
    },
    {
      "cell_type": "markdown",
      "metadata": {
        "id": "q51UW2uU1Xf0"
      },
      "source": [
        "<a href=\"https://colab.research.google.com/github/wandb/edu/blob/main/llm-apps-course/notebooks/02.%20Generation.ipynb\" target=\"_parent\"><img src=\"https://colab.research.google.com/assets/colab-badge.svg\" alt=\"Open In Colab\"/></a>\n",
        "<!--- @wandbcode{llmapps-generation} -->"
      ]
    },
    {
      "cell_type": "markdown",
      "metadata": {
        "id": "vtpi7CKP1Xf2"
      },
      "source": [
        "# Generation\n",
        "<!--- @wandbcode{llmapps-generation} -->\n",
        "\n",
        "In this notebook we will dive deeper on prompting the model by passing a better context by using available data from users questions and using the documentation files to generate better answers.\n"
      ]
    },
    {
      "cell_type": "markdown",
      "metadata": {
        "id": "lMxpIqWt1Xf2"
      },
      "source": [
        "### Setup"
      ]
    },
    {
      "cell_type": "code",
      "execution_count": 2,
      "metadata": {
        "id": "f40Oe86t1Xf2",
        "outputId": "9ab4fa76-8edd-4058-e65c-772f37efe1be",
        "colab": {
          "base_uri": "https://localhost:8080/"
        }
      },
      "outputs": [
        {
          "output_type": "stream",
          "name": "stdout",
          "text": [
            "\u001b[?25l   \u001b[90m━━━━━━━━━━━━━━━━━━━━━━━━━━━━━━━━━━━━━━━━\u001b[0m \u001b[32m0.0/70.1 kB\u001b[0m \u001b[31m?\u001b[0m eta \u001b[36m-:--:--\u001b[0m\r\u001b[2K   \u001b[90m━━━━━━━━━━━━━━━━━━━━━━━━━━━━━━━━━━━━━━━━\u001b[0m \u001b[32m70.1/70.1 kB\u001b[0m \u001b[31m2.9 MB/s\u001b[0m eta \u001b[36m0:00:00\u001b[0m\n",
            "\u001b[?25h\u001b[?25l   \u001b[90m━━━━━━━━━━━━━━━━━━━━━━━━━━━━━━━━━━━━━━━━\u001b[0m \u001b[32m0.0/1.1 MB\u001b[0m \u001b[31m?\u001b[0m eta \u001b[36m-:--:--\u001b[0m\r\u001b[2K   \u001b[91m━━━━━━━━━━━━━━━━━━━━━━━━━━━━━━━━━━━━━━━\u001b[0m\u001b[91m╸\u001b[0m \u001b[32m1.1/1.1 MB\u001b[0m \u001b[31m52.6 MB/s\u001b[0m eta \u001b[36m0:00:01\u001b[0m\r\u001b[2K   \u001b[90m━━━━━━━━━━━━━━━━━━━━━━━━━━━━━━━━━━━━━━━━\u001b[0m \u001b[32m1.1/1.1 MB\u001b[0m \u001b[31m27.7 MB/s\u001b[0m eta \u001b[36m0:00:00\u001b[0m\n",
            "\u001b[2K   \u001b[90m━━━━━━━━━━━━━━━━━━━━━━━━━━━━━━━━━━━━━━━━\u001b[0m \u001b[32m6.8/6.8 MB\u001b[0m \u001b[31m67.4 MB/s\u001b[0m eta \u001b[36m0:00:00\u001b[0m\n",
            "\u001b[2K   \u001b[90m━━━━━━━━━━━━━━━━━━━━━━━━━━━━━━━━━━━━━━━━\u001b[0m \u001b[32m207.3/207.3 kB\u001b[0m \u001b[31m9.8 MB/s\u001b[0m eta \u001b[36m0:00:00\u001b[0m\n",
            "\u001b[2K   \u001b[90m━━━━━━━━━━━━━━━━━━━━━━━━━━━━━━━━━━━━━━━━\u001b[0m \u001b[32m303.6/303.6 kB\u001b[0m \u001b[31m16.1 MB/s\u001b[0m eta \u001b[36m0:00:00\u001b[0m\n",
            "\u001b[2K   \u001b[90m━━━━━━━━━━━━━━━━━━━━━━━━━━━━━━━━━━━━━━━━\u001b[0m \u001b[32m62.7/62.7 kB\u001b[0m \u001b[31m4.8 MB/s\u001b[0m eta \u001b[36m0:00:00\u001b[0m\n",
            "\u001b[?25h"
          ]
        }
      ],
      "source": [
        "%pip install -Uqqq rich openai==0.27.2 tiktoken wandb tenacity"
      ]
    },
    {
      "cell_type": "code",
      "execution_count": 3,
      "metadata": {
        "id": "Qy5JJ19M1Xf3"
      },
      "outputs": [],
      "source": [
        "import os\n",
        "import random\n",
        "\n",
        "import openai\n",
        "import tiktoken\n",
        "\n",
        "from pathlib import Path\n",
        "from pprint import pprint\n",
        "from getpass import getpass\n",
        "\n",
        "from rich.markdown import Markdown\n",
        "import pandas as pd\n",
        "from tenacity import (\n",
        "    retry,\n",
        "    stop_after_attempt,\n",
        "    wait_random_exponential, # for exponential backoff\n",
        ")\n",
        "import wandb\n",
        "from wandb.integration.openai import autolog"
      ]
    },
    {
      "cell_type": "code",
      "execution_count": 4,
      "metadata": {
        "id": "WcM0XNvY1Xf3",
        "outputId": "c49a3920-af9c-4858-fe15-990c266f2222",
        "colab": {
          "base_uri": "https://localhost:8080/"
        }
      },
      "outputs": [
        {
          "output_type": "stream",
          "name": "stdout",
          "text": [
            "--2024-07-29 14:11:17--  https://raw.githubusercontent.com/wandb/edu/main/llm-apps-course/notebooks/examples.txt\n",
            "Resolving raw.githubusercontent.com (raw.githubusercontent.com)... 185.199.108.133, 185.199.109.133, 185.199.110.133, ...\n",
            "Connecting to raw.githubusercontent.com (raw.githubusercontent.com)|185.199.108.133|:443... connected.\n",
            "HTTP request sent, awaiting response... 200 OK\n",
            "Length: 40595 (40K) [text/plain]\n",
            "Saving to: ‘examples.txt’\n",
            "\n",
            "examples.txt        100%[===================>]  39.64K  --.-KB/s    in 0.007s  \n",
            "\n",
            "2024-07-29 14:11:18 (5.66 MB/s) - ‘examples.txt’ saved [40595/40595]\n",
            "\n",
            "--2024-07-29 14:11:18--  https://raw.githubusercontent.com/wandb/edu/main/llm-apps-course/notebooks/prompt_template.txt\n",
            "Reusing existing connection to raw.githubusercontent.com:443.\n",
            "HTTP request sent, awaiting response... 200 OK\n",
            "Length: 1054 (1.0K) [text/plain]\n",
            "Saving to: ‘prompt_template.txt’\n",
            "\n",
            "prompt_template.txt 100%[===================>]   1.03K  --.-KB/s    in 0s      \n",
            "\n",
            "2024-07-29 14:11:18 (56.9 MB/s) - ‘prompt_template.txt’ saved [1054/1054]\n",
            "\n",
            "--2024-07-29 14:11:18--  https://raw.githubusercontent.com/wandb/edu/main/llm-apps-course/notebooks/system_template.txt\n",
            "Reusing existing connection to raw.githubusercontent.com:443.\n",
            "HTTP request sent, awaiting response... 200 OK\n",
            "Length: 469 [text/plain]\n",
            "Saving to: ‘system_template.txt’\n",
            "\n",
            "system_template.txt 100%[===================>]     469  --.-KB/s    in 0s      \n",
            "\n",
            "2024-07-29 14:11:18 (21.6 MB/s) - ‘system_template.txt’ saved [469/469]\n",
            "\n",
            "FINISHED --2024-07-29 14:11:18--\n",
            "Total wall clock time: 0.6s\n",
            "Downloaded: 3 files, 41K in 0.007s (5.84 MB/s)\n"
          ]
        }
      ],
      "source": [
        "# Download files on colab\n",
        "if not Path(\"examples.txt\").exists():\n",
        "    !wget https://raw.githubusercontent.com/wandb/edu/main/llm-apps-course/notebooks/{examples,prompt_template,system_template}.txt"
      ]
    },
    {
      "cell_type": "markdown",
      "metadata": {
        "id": "mL0vv1SA1Xf4"
      },
      "source": [
        "You will need an OpenAI API key to run this notebook. You can get one [here](https://platform.openai.com/account/api-keys)."
      ]
    },
    {
      "cell_type": "code",
      "execution_count": null,
      "metadata": {
        "id": "67Zozmf_1Xf4"
      },
      "outputs": [],
      "source": [
        "if os.getenv(\"OPENAI_API_KEY\") is None:\n",
        "  if any(['VSCODE' in x for x in os.environ.keys()]):\n",
        "    print('Please enter password in the VS Code prompt at the top of your VS Code window!')\n",
        "  os.environ[\"OPENAI_API_KEY\"] = getpass(\"Paste your OpenAI key from: https://platform.openai.com/account/api-keys\\n\")\n",
        "  openai.api_key = os.getenv(\"OPENAI_API_KEY\", \"\")\n",
        "\n",
        "assert os.getenv(\"OPENAI_API_KEY\", \"\").startswith(\"sk-\"), \"This doesn't look like a valid OpenAI API key\"\n",
        "print(\"OpenAI API key configured\")"
      ]
    },
    {
      "cell_type": "markdown",
      "metadata": {
        "id": "58hmblc91Xf5"
      },
      "source": [
        "Let's enable W&B autologging to track our experiments."
      ]
    },
    {
      "cell_type": "code",
      "execution_count": null,
      "metadata": {
        "id": "gR66B4Wc1Xf6"
      },
      "outputs": [],
      "source": [
        "# start logging to W&B\n",
        "autolog({\"project\":\"llmapps\", \"job_type\": \"generation\"})"
      ]
    },
    {
      "cell_type": "markdown",
      "metadata": {
        "id": "vkDu9bdL1Xf6"
      },
      "source": [
        "# Generating synthetic support questions"
      ]
    },
    {
      "cell_type": "markdown",
      "metadata": {
        "id": "F83aFQS61Xf6"
      },
      "source": [
        "We will add a retry behavior in case we hit the API rate limit"
      ]
    },
    {
      "cell_type": "code",
      "execution_count": 1,
      "metadata": {
        "id": "_QjtpK7Y1Xf7",
        "outputId": "79b9b5f9-0b63-4d07-9c3a-253e1865d3e2",
        "colab": {
          "base_uri": "https://localhost:8080/",
          "height": 182
        }
      },
      "outputs": [
        {
          "output_type": "error",
          "ename": "NameError",
          "evalue": "name 'retry' is not defined",
          "traceback": [
            "\u001b[0;31m---------------------------------------------------------------------------\u001b[0m",
            "\u001b[0;31mNameError\u001b[0m                                 Traceback (most recent call last)",
            "\u001b[0;32m<ipython-input-1-0c97e95262bd>\u001b[0m in \u001b[0;36m<cell line: 1>\u001b[0;34m()\u001b[0m\n\u001b[0;32m----> 1\u001b[0;31m \u001b[0;34m@\u001b[0m\u001b[0mretry\u001b[0m\u001b[0;34m(\u001b[0m\u001b[0mwait\u001b[0m\u001b[0;34m=\u001b[0m\u001b[0mwait_random_exponential\u001b[0m\u001b[0;34m(\u001b[0m\u001b[0mmin\u001b[0m\u001b[0;34m=\u001b[0m\u001b[0;36m1\u001b[0m\u001b[0;34m,\u001b[0m \u001b[0mmax\u001b[0m\u001b[0;34m=\u001b[0m\u001b[0;36m60\u001b[0m\u001b[0;34m)\u001b[0m\u001b[0;34m,\u001b[0m \u001b[0mstop\u001b[0m\u001b[0;34m=\u001b[0m\u001b[0mstop_after_attempt\u001b[0m\u001b[0;34m(\u001b[0m\u001b[0;36m6\u001b[0m\u001b[0;34m)\u001b[0m\u001b[0;34m)\u001b[0m\u001b[0;34m\u001b[0m\u001b[0;34m\u001b[0m\u001b[0m\n\u001b[0m\u001b[1;32m      2\u001b[0m \u001b[0;32mdef\u001b[0m \u001b[0mcompletion_with_backoff\u001b[0m\u001b[0;34m(\u001b[0m\u001b[0;34m**\u001b[0m\u001b[0mkwargs\u001b[0m\u001b[0;34m)\u001b[0m\u001b[0;34m:\u001b[0m\u001b[0;34m\u001b[0m\u001b[0;34m\u001b[0m\u001b[0m\n\u001b[1;32m      3\u001b[0m     \u001b[0;32mreturn\u001b[0m \u001b[0mopenai\u001b[0m\u001b[0;34m.\u001b[0m\u001b[0mChatCompletion\u001b[0m\u001b[0;34m.\u001b[0m\u001b[0mcreate\u001b[0m\u001b[0;34m(\u001b[0m\u001b[0;34m**\u001b[0m\u001b[0mkwargs\u001b[0m\u001b[0;34m)\u001b[0m\u001b[0;34m\u001b[0m\u001b[0;34m\u001b[0m\u001b[0m\n",
            "\u001b[0;31mNameError\u001b[0m: name 'retry' is not defined"
          ]
        }
      ],
      "source": [
        "@retry(wait=wait_random_exponential(min=1, max=60), stop=stop_after_attempt(6))\n",
        "def completion_with_backoff(**kwargs):\n",
        "    return openai.ChatCompletion.create(**kwargs)"
      ]
    },
    {
      "cell_type": "code",
      "execution_count": null,
      "metadata": {
        "id": "roP8hcZr1Xf7"
      },
      "outputs": [],
      "source": [
        "MODEL_NAME = \"gpt-3.5-turbo\"\n",
        "# MODEL_NAME = \"gpt-4\""
      ]
    },
    {
      "cell_type": "code",
      "execution_count": null,
      "metadata": {
        "id": "uohjq_AR1Xf7"
      },
      "outputs": [],
      "source": [
        "from typing import Concatenate\n",
        "system_prompt = \"You are a helpful assistant.\"\n",
        "user_prompt = \"Generate a support question from a W&B user\"\n",
        "\n",
        "def generate_and_print(system_prompt, user_prompt, n=5):\n",
        "    messages=[\n",
        "            {\"role\": \"system\", \"content\": system_prompt},\n",
        "            {\"role\": \"user\", \"content\": user_prompt},\n",
        "        ]\n",
        "    responses = completion_with_backoff(\n",
        "        model=MODEL_NAME,\n",
        "        messages=messages,\n",
        "        n = n,\n",
        "        )\n",
        "    for response in responses.choices:\n",
        "        generation = response.message.content\n",
        "        display(Markdown(generation))\n",
        "\n",
        "generate_and_print(system_prompt, user_prompt)\n",
        "\n"
      ]
    },
    {
      "cell_type": "markdown",
      "metadata": {
        "id": "NVldAI301Xf7"
      },
      "source": [
        "# Few Shot"
      ]
    },
    {
      "cell_type": "markdown",
      "metadata": {
        "id": "-WTJNDul1Xf8"
      },
      "source": [
        "Let's read some user submitted queries from the file `examples.txt`. This file contains multiline questions separated by tabs (`\\t`)."
      ]
    },
    {
      "cell_type": "code",
      "execution_count": null,
      "metadata": {
        "id": "zwQQbN4G1Xf8"
      },
      "outputs": [],
      "source": [
        "# Test if examples.txt is present, download if not\n",
        "if not Path(\"examples.txt\").exists():\n",
        "    !wget https://raw.githubusercontent.com/wandb/edu/main/llm-apps-course/notebooks/examples.txt"
      ]
    },
    {
      "cell_type": "code",
      "execution_count": null,
      "metadata": {
        "id": "H6gsknyA1Xf8"
      },
      "outputs": [],
      "source": [
        "delimiter = \"\\t\" # tab separated queries\n",
        "with open(\"examples.txt\", \"r\") as file:\n",
        "    data = file.read()\n",
        "    real_queries = data.split(delimiter)\n",
        "\n",
        "pprint(f\"We have {len(real_queries)} real queries:\")\n",
        "Markdown(f\"Sample one: \\n\\\"{random.choice(real_queries)}\\\"\")\n",
        "\n"
      ]
    },
    {
      "cell_type": "markdown",
      "metadata": {
        "id": "1GgKE4zm1Xf8"
      },
      "source": [
        "We can now use those real user questions to guide our model to produce synthetic questions like those."
      ]
    },
    {
      "cell_type": "code",
      "execution_count": null,
      "metadata": {
        "id": "SoYPDF8k1Xf8"
      },
      "outputs": [],
      "source": [
        "def generate_few_shot_prompt(queries, n=3):\n",
        "    prompt = \"Generate a support question from a W&B user\\n\" +\\\n",
        "        \"Below you will find a few examples of real user queries:\\n\"\n",
        "    for _ in range(n):\n",
        "        prompt += random.choice(queries) + \"\\n\"\n",
        "    prompt += \"Let's start!\"\n",
        "    return prompt\n",
        "\n",
        "generation_prompt = generate_few_shot_prompt(real_queries)\n",
        "Markdown(generation_prompt)\n",
        "\n"
      ]
    },
    {
      "cell_type": "markdown",
      "metadata": {
        "id": "RlwFdqiS1Xf8"
      },
      "source": [
        "OpenAI `Chat` models are really good at following instructions with a few examples. Let's see how it does here. This is going to use some context from the prompt."
      ]
    },
    {
      "cell_type": "code",
      "execution_count": null,
      "metadata": {
        "id": "s3-zIyS71Xf8"
      },
      "outputs": [],
      "source": [
        "generate_and_print(system_prompt, user_prompt=generation_prompt)"
      ]
    },
    {
      "cell_type": "markdown",
      "metadata": {
        "id": "lp1Br8MH1Xf8"
      },
      "source": [
        "# Add Context & Response"
      ]
    },
    {
      "cell_type": "markdown",
      "metadata": {
        "id": "ZVX0ziR11Xf9"
      },
      "source": [
        "Let's create a function to find all the markdown files in a directory and return it's content and path"
      ]
    },
    {
      "cell_type": "code",
      "execution_count": null,
      "metadata": {
        "id": "BrOaj3Yz1Xf9"
      },
      "outputs": [],
      "source": [
        "# check if directory exists, if not, create it and download the files, e.g if running in colab\n",
        "if not os.path.exists(\"../docs_sample/\"):\n",
        "  !git clone https://github.com/wandb/edu.git\n",
        "  !cp -r edu/llm-apps-course/docs_sample ../"
      ]
    },
    {
      "cell_type": "code",
      "execution_count": null,
      "metadata": {
        "id": "Ytm61_if1Xf9"
      },
      "outputs": [],
      "source": [
        "def find_md_files(directory):\n",
        "    \"Find all markdown files in a directory and return their content and path\"\n",
        "    md_files = []\n",
        "    for file in Path(directory).rglob(\"*.md\"):\n",
        "        with open(file, 'r', encoding='utf-8') as md_file:\n",
        "            content = md_file.read()\n",
        "        md_files.append((file.relative_to(directory), content))\n",
        "    return md_files\n",
        "\n",
        "documents = find_md_files('../docs_sample/')\n",
        "len(documents)"
      ]
    },
    {
      "cell_type": "markdown",
      "metadata": {
        "id": "k9brfykP1Xf9"
      },
      "source": [
        "Let's check if the documents are not too long for our context window. We need to compute the number of tokens in each document."
      ]
    },
    {
      "cell_type": "code",
      "execution_count": null,
      "metadata": {
        "id": "fLzQS3sY1Xf9"
      },
      "outputs": [],
      "source": [
        "tokenizer = tiktoken.encoding_for_model(MODEL_NAME)\n",
        "tokens_per_document = [len(tokenizer.encode(document)) for _, document in documents]\n",
        "pprint(tokens_per_document)\n"
      ]
    },
    {
      "cell_type": "markdown",
      "metadata": {
        "id": "XmPfSsQz1Xf9"
      },
      "source": [
        "Some of them are too long - instead of using entire documents, we'll extract a random chunk from them"
      ]
    },
    {
      "cell_type": "code",
      "execution_count": null,
      "metadata": {
        "id": "rNN2JNqU1Xf9"
      },
      "outputs": [],
      "source": [
        "# extract a random chunk from a document\n",
        "def extract_random_chunk(document, max_tokens=512):\n",
        "    tokens = tokenizer.encode(document)\n",
        "    if len(tokens) <= max_tokens:\n",
        "        return document\n",
        "    start = random.randint(0, len(tokens) - max_tokens)\n",
        "    end = start + max_tokens\n",
        "    return tokenizer.decode(tokens[start:end])\n"
      ]
    },
    {
      "cell_type": "markdown",
      "metadata": {
        "id": "vmNUoEUf1Xf9"
      },
      "source": [
        "Now, we will use that extracted chunk to create a question that can be answered by the document. This way we can generate questions that our current documentation is capable of answering."
      ]
    },
    {
      "cell_type": "code",
      "execution_count": null,
      "metadata": {
        "id": "m1wzqOtY1Xf9"
      },
      "outputs": [],
      "source": [
        "def generate_context_prompt(chunk):\n",
        "    prompt = \"Generate a support question from a W&B user\\n\" +\\\n",
        "        \"The question should be answerable by provided fragment of W&B documentation.\\n\" +\\\n",
        "        \"Below you will find a fragment of W&B documentation:\\n\" +\\\n",
        "        chunk + \"\\n\" +\\\n",
        "        \"Let's start!\"\n",
        "    return prompt\n",
        "\n",
        "chunk = extract_random_chunk(documents[0][1])\n",
        "generation_prompt = generate_context_prompt(chunk)\n",
        "\n"
      ]
    },
    {
      "cell_type": "code",
      "execution_count": null,
      "metadata": {
        "id": "uJz9OLw_1Xf9"
      },
      "outputs": [],
      "source": [
        "Markdown(generation_prompt)"
      ]
    },
    {
      "cell_type": "markdown",
      "metadata": {
        "id": "4N0mXcjN1Xf-"
      },
      "source": [
        "Let's generate 3 possible questions:"
      ]
    },
    {
      "cell_type": "code",
      "execution_count": null,
      "metadata": {
        "id": "KMvdPJx61Xf-"
      },
      "outputs": [],
      "source": [
        "generate_and_print(system_prompt, generation_prompt, n=3)"
      ]
    },
    {
      "cell_type": "markdown",
      "metadata": {
        "id": "UmnUmRX31Xf-"
      },
      "source": [
        "> As you can see, sometimes the generation contains an intro phrase like: \"Sure, here's a support question based on the documentation:\", we may want to put some instructions to avoid this."
      ]
    },
    {
      "cell_type": "markdown",
      "metadata": {
        "id": "2PEJvwhQ1Xf-"
      },
      "source": [
        "### Level 5 prompt\n",
        "\n",
        "Complex directive that includes the following:\n",
        "- Description of high-level goal\n",
        "- A detailed bulleted list of sub-tasks\n",
        "- An explicit statement asking LLM to explain its own output\n",
        "- A guideline on how LLM output will be evaluated\n",
        "- Few-shot examples"
      ]
    },
    {
      "cell_type": "code",
      "execution_count": null,
      "metadata": {
        "id": "V8qUBkZv1Xf-"
      },
      "outputs": [],
      "source": [
        "# we will use GPT4 from here, as it gives better answers and abides to instructions better\n",
        "MODEL_NAME = \"gpt-4\""
      ]
    },
    {
      "cell_type": "code",
      "execution_count": null,
      "metadata": {
        "id": "UFi4jXGF1XgC"
      },
      "outputs": [],
      "source": [
        "# read system_template.txt file into an f-string\n",
        "with open(\"system_template.txt\", \"r\") as file:\n",
        "    system_prompt = file.read()"
      ]
    },
    {
      "cell_type": "code",
      "execution_count": null,
      "metadata": {
        "id": "oQ-2_lJP1XgC"
      },
      "outputs": [],
      "source": [
        "Markdown(system_prompt)"
      ]
    },
    {
      "cell_type": "code",
      "execution_count": null,
      "metadata": {
        "id": "P3nGzdLw1XgD"
      },
      "outputs": [],
      "source": [
        "# read prompt_template.txt file into an f-string\n",
        "with open(\"prompt_template.txt\", \"r\") as file:\n",
        "    prompt_template = file.read()"
      ]
    },
    {
      "cell_type": "code",
      "execution_count": null,
      "metadata": {
        "id": "Fbqn7Fyp1XgD"
      },
      "outputs": [],
      "source": [
        "Markdown(prompt_template)"
      ]
    },
    {
      "cell_type": "code",
      "execution_count": null,
      "metadata": {
        "id": "DFjL2wr51XgD"
      },
      "outputs": [],
      "source": [
        "def generate_context_prompt(chunk, n_questions=3):\n",
        "    questions = '\\n'.join(random.sample(real_queries, n_questions))\n",
        "    user_prompt = prompt_template.format(QUESTIONS=questions, CHUNK=chunk)\n",
        "    return user_prompt\n",
        "\n",
        "user_prompt = generate_context_prompt(chunk)"
      ]
    },
    {
      "cell_type": "code",
      "execution_count": null,
      "metadata": {
        "id": "T901NdOd1XgD"
      },
      "outputs": [],
      "source": [
        "Markdown(user_prompt)"
      ]
    },
    {
      "cell_type": "code",
      "execution_count": null,
      "metadata": {
        "id": "fKjEay5N1XgD"
      },
      "outputs": [],
      "source": [
        "def generate_questions(documents, n_questions=3, n_generations=5):\n",
        "    questions = []\n",
        "    for _, document in documents:\n",
        "        chunk = extract_random_chunk(document)\n",
        "        user_prompt = generate_context_prompt(chunk, n_questions)\n",
        "        messages=[\n",
        "            {\"role\": \"system\", \"content\": system_prompt},\n",
        "            {\"role\": \"user\", \"content\": user_prompt},\n",
        "        ]\n",
        "        response = completion_with_backoff(\n",
        "            model=MODEL_NAME,\n",
        "            messages=messages,\n",
        "            n = n_generations,\n",
        "            )\n",
        "        questions.extend([response.choices[i].message.content for i in range(n_generations)])\n",
        "    return questions"
      ]
    },
    {
      "cell_type": "markdown",
      "metadata": {
        "id": "W_On2Vp51XgD"
      },
      "source": [
        "> A Note about the `system` role: For GPT4 based pipelines you probably want to move some part of the context prompt to the `system` context. As we are using `gpt3.5-turbo` here, you can put the instruction on the user prompt, you can read more about this on [OpenAI docs here](https://platform.openai.com/docs/guides/chat/instructing-chat-models)"
      ]
    },
    {
      "cell_type": "code",
      "execution_count": null,
      "metadata": {
        "id": "MargKzvO1XgD"
      },
      "outputs": [],
      "source": [
        "# function to parse model generation and extract CONTEXT, QUESTION and ANSWER\n",
        "def parse_generation(generation):\n",
        "    lines = generation.split(\"\\n\")\n",
        "    context = []\n",
        "    question = []\n",
        "    answer = []\n",
        "    flag = None\n",
        "\n",
        "    for line in lines:\n",
        "        if \"CONTEXT:\" in line:\n",
        "            flag = \"context\"\n",
        "            line = line.replace(\"CONTEXT:\", \"\").strip()\n",
        "        elif \"QUESTION:\" in line:\n",
        "            flag = \"question\"\n",
        "            line = line.replace(\"QUESTION:\", \"\").strip()\n",
        "        elif \"ANSWER:\" in line:\n",
        "            flag = \"answer\"\n",
        "            line = line.replace(\"ANSWER:\", \"\").strip()\n",
        "\n",
        "        if flag == \"context\":\n",
        "            context.append(line)\n",
        "        elif flag == \"question\":\n",
        "            question.append(line)\n",
        "        elif flag == \"answer\":\n",
        "            answer.append(line)\n",
        "\n",
        "    context = \"\\n\".join(context)\n",
        "    question = \"\\n\".join(question)\n",
        "    answer = \"\\n\".join(answer)\n",
        "    return context, question, answer"
      ]
    },
    {
      "cell_type": "code",
      "execution_count": null,
      "metadata": {
        "id": "NhBT2j9v1XgD"
      },
      "outputs": [],
      "source": [
        "generations = generate_questions([documents[0]], n_questions=3, n_generations=5)\n",
        "parse_generation(generations[0])"
      ]
    },
    {
      "cell_type": "code",
      "execution_count": null,
      "metadata": {
        "id": "OPvBc5xA1XgE"
      },
      "outputs": [],
      "source": [
        "parsed_generations = []\n",
        "generations = generate_questions(documents, n_questions=3, n_generations=5)\n",
        "for generation in generations:\n",
        "    context, question, answer = parse_generation(generation)\n",
        "    parsed_generations.append({\"context\": context, \"question\": question, \"answer\": answer})\n",
        "\n",
        "# let's convert parsed_generations to a pandas dataframe and save it locally\n",
        "df = pd.DataFrame(parsed_generations)\n",
        "df.to_csv('generated_examples.csv', index=False)\n",
        "\n",
        "# log df as a table to W&B for interactive exploration\n",
        "wandb.log({\"generated_examples\": wandb.Table(dataframe=df)})\n",
        "\n",
        "# log csv file as an artifact to W&B for later use\n",
        "artifact = wandb.Artifact(\"generated_examples\", type=\"dataset\")\n",
        "artifact.add_file(\"generated_examples.csv\")\n",
        "wandb.log_artifact(artifact)"
      ]
    },
    {
      "cell_type": "code",
      "execution_count": null,
      "metadata": {
        "id": "twGAszQ31XgE"
      },
      "outputs": [],
      "source": [
        "wandb.finish()"
      ]
    },
    {
      "cell_type": "code",
      "execution_count": null,
      "metadata": {
        "id": "jEJXcdn91XgE"
      },
      "outputs": [],
      "source": []
    }
  ],
  "metadata": {
    "accelerator": "GPU",
    "colab": {
      "provenance": [],
      "include_colab_link": true
    },
    "kernelspec": {
      "display_name": "Python 3",
      "language": "python",
      "name": "python3"
    },
    "language_info": {
      "codemirror_mode": {
        "name": "ipython",
        "version": 3
      },
      "file_extension": ".py",
      "mimetype": "text/x-python",
      "name": "python",
      "nbconvert_exporter": "python",
      "pygments_lexer": "ipython3",
      "version": "3.8.13"
    }
  },
  "nbformat": 4,
  "nbformat_minor": 0
}